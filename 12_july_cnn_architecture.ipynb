{
 "cells": [
  {
   "cell_type": "markdown",
   "id": "ebd99144-e212-466e-80b5-def469ee59af",
   "metadata": {},
   "source": [
    "## TOPIC: Understanding Pooling and Padding in CNN"
   ]
  },
  {
   "cell_type": "markdown",
   "id": "bbf7fe8e-7b06-464b-847e-165cf4b8a761",
   "metadata": {},
   "source": [
    "### 1. Describe the purpose and benefits of pooling in CNN."
   ]
  },
  {
   "cell_type": "markdown",
   "id": "a99ca198-9c6f-42f6-a740-f7582434f44a",
   "metadata": {},
   "source": [
    "Ans--> Pooling, also known as subsampling or downsampling, is a crucial operation in Convolutional Neural Networks (CNNs) used to reduce the spatial dimensions of the feature maps while retaining their important information. The primary purpose of pooling is to progressively downscale the feature maps, making the network more computationally efficient, reducing memory requirements, and extracting the most relevant features from the input data.\n",
    "\n",
    "The benefits of pooling in CNNs include:\n",
    "\n",
    "1. Spatial invariance: Pooling helps achieve translation invariance, which means the network can recognize patterns and features regardless of their exact spatial position in the input data. This is crucial for tasks like image recognition, where the object of interest can appear at different positions within the image.\n",
    "\n",
    "2. Dimensionality reduction: As the CNN progresses through its layers, the spatial dimensions of the feature maps decrease due to pooling operations. This reduction helps reduce the computational load and the number of parameters in the network, making it more manageable and faster to train.\n",
    "\n",
    "3. Information retention: Pooling aims to retain the most important features while discarding less relevant details. By downsampling the feature maps, the network focuses on the dominant patterns, edges, and textures, which are critical for the classification task.\n",
    "\n",
    "4. Overfitting prevention: Pooling can help prevent overfitting by reducing the spatial resolution of the feature maps and providing a form of regularization. With fewer parameters to learn, the network becomes less prone to memorizing noise in the training data.\n",
    "\n",
    "5. Increased receptive field: Pooling effectively increases the receptive field of neurons in deeper layers. It allows the network to capture more global features and context from the input data, leading to better generalization and performance.\n",
    "\n",
    "There are different types of pooling operations, such as max pooling and average pooling. Max pooling takes the maximum value from a specific window of the feature map, while average pooling computes the average value within the window. Both methods are effective at reducing spatial dimensions and extracting essential information, but max pooling is more commonly used as it tends to preserve more prominent features and has been shown to work well in practice."
   ]
  },
  {
   "cell_type": "markdown",
   "id": "677dae12-7816-47ce-a41e-28c218cfd8fb",
   "metadata": {},
   "source": [
    "### 2. Explain the difference between min pooling and max pooling."
   ]
  },
  {
   "cell_type": "markdown",
   "id": "c5ac9fd2-515a-4015-bf9a-9a084c256312",
   "metadata": {},
   "source": [
    "Ans--> Max pooling and min pooling are both types of pooling operations used in Convolutional Neural Networks (CNNs) for downscaling the feature maps. However, they differ in their behavior and how they select values from the input feature maps:\n",
    "\n",
    "1. Max Pooling:\n",
    "   - Max pooling takes the maximum value from a specific window (also called the pooling kernel or filter) of the feature map.\n",
    "   - The window slides over the input feature map, and at each position, it selects the maximum value within the window.\n",
    "   - The selected maximum value is then used to represent the corresponding region in the downsampled feature map.\n",
    "   - Max pooling is popular because it retains the most prominent features, such as edges and corners, which are crucial for image recognition tasks.\n",
    "   - It provides a form of translation invariance, as the maximum value represents the most significant feature within the window, regardless of its exact position.\n",
    "   - Max pooling tends to be more robust against noise in the data, as it focuses on the most relevant information.\n",
    "\n",
    "2. Min Pooling:\n",
    "   - Min pooling, on the other hand, takes the minimum value from the pooling window of the feature map.\n",
    "   - Similar to max pooling, the window slides over the feature map, and at each position, it selects the minimum value within the window.\n",
    "   - The selected minimum value is used to represent the corresponding region in the downsampled feature map.\n",
    "   - Unlike max pooling, which emphasizes prominent features, min pooling emphasizes the least intense features in the data.\n",
    "   - Min pooling is not commonly used in practice for image recognition tasks, as it tends to retain less important information and may not be as effective as max pooling.\n",
    "\n",
    "In summary, max pooling selects the maximum value from the pooling window, while min pooling selects the minimum value. Max pooling is widely used in CNN architectures and is known for preserving important features and improving the network's performance, whereas min pooling is less common and may not be as suitable for typical image recognition tasks due to its emphasis on less intense features."
   ]
  },
  {
   "cell_type": "markdown",
   "id": "2aa1aa2f-2a0f-49ac-95d7-4719d8ff3660",
   "metadata": {},
   "source": [
    "### 3. Discuss the concept of padding in CNN and its significance."
   ]
  },
  {
   "cell_type": "markdown",
   "id": "b097f86e-f2b4-46d8-9daf-9f6d1c9ef8a1",
   "metadata": {},
   "source": [
    "Ans--> Padding in Convolutional Neural Networks (CNNs) refers to the process of adding extra pixels (often with zero values) around the borders of an input feature map before applying convolutional or pooling operations. Padding helps retain the spatial dimensions of the feature maps after these operations, and it has significant implications for the network's architecture and performance. There are two common types of padding:\n",
    "\n",
    "1. Valid Padding (No Padding):\n",
    "   - In this type of padding, no extra pixels are added to the input feature map. The filter is applied only to the valid positions where the filter and the input feature map fully overlap.\n",
    "   - As a result, the output feature map's spatial dimensions are reduced after convolution or pooling operations, and information at the borders of the input map is lost.\n",
    "   - While valid padding reduces the computational cost and memory requirements, it may lead to a reduction in feature map dimensions, which can result in a smaller receptive field for deeper layers, potentially limiting the network's ability to capture global features and context.\n",
    "\n",
    "2. Same Padding:\n",
    "   - In same padding, the necessary number of extra pixels is added to the input feature map so that the output feature map has the same spatial dimensions as the input.\n",
    "   - If the filter size is odd, the same number of pixels is added on all sides. If the filter size is even, more pixels are added to the right and bottom sides to maintain an equal spatial dimension.\n",
    "   - Same padding ensures that the convolutional and pooling operations do not reduce the spatial dimensions of the feature maps, allowing information at the borders to be preserved.\n",
    "   - With same padding, the network can retain more context and capture global features effectively, leading to better performance in tasks where spatial information is essential, such as image segmentation and object detection.\n",
    "\n",
    "The significance of padding in CNNs includes:\n",
    "\n",
    "1. Preserving spatial information: Padding helps prevent a progressive reduction in spatial dimensions, ensuring that the network maintains important information from the input, especially at the borders of the feature maps.\n",
    "\n",
    "2. Enabling deeper architectures: By preserving spatial dimensions through padding, deeper layers can have larger receptive fields, allowing the network to learn more complex patterns and global context.\n",
    "\n",
    "3. Handling edge effects: Without padding, the filter's center might not align with the edge pixels of the input feature map, leading to incomplete information. Padding resolves this issue by allowing the filter to be applied to all input pixels.\n",
    "\n",
    "4. Efficient information flow: With same padding, the information flow through the network is more efficient since the output size remains consistent, and the network can better propagate gradients during training.\n",
    "\n",
    "In conclusion, padding plays a crucial role in CNNs by maintaining spatial information, enabling deeper architectures, and improving the network's ability to capture context and features effectively, ultimately contributing to better performance in various computer vision tasks."
   ]
  },
  {
   "cell_type": "markdown",
   "id": "d530ab07-1379-4513-b255-b4a2c43477a1",
   "metadata": {},
   "source": [
    "### 4. Compare and contrast zero-padding and valid-padding in terms of their effects on the output feature map size."
   ]
  },
  {
   "cell_type": "markdown",
   "id": "1449b552-33cc-4839-861d-aeab780ee98b",
   "metadata": {},
   "source": [
    "Ans--> Zero-padding and valid-padding are two types of padding techniques used in Convolutional Neural Networks (CNNs) that have different effects on the output feature map size after convolutional or pooling operations. Let's compare and contrast them in terms of their impact on the output feature map size:\n",
    "\n",
    "1. Zero-padding:\n",
    "   - Zero-padding involves adding extra pixels (often with zero values) around the borders of the input feature map before applying convolution or pooling operations.\n",
    "   - The amount of zero-padding is determined by the size of the convolutional or pooling filter and the desired output size.\n",
    "   - With zero-padding, the output feature map size can remain the same (if desired) or be increased compared to the input feature map size, depending on the padding size and the stride used during the operation.\n",
    "   - The formula to compute the output feature map size with zero-padding is:\n",
    "     Output Size = (Input Size + 2 * Padding Size - Filter Size) / Stride + 1\n",
    "   - Zero-padding is commonly used when we want to maintain the spatial dimensions of the feature maps or when we need to ensure that the filter is applied to all input pixels, even at the borders.\n",
    "\n",
    "2. Valid-padding (No Padding):\n",
    "   - Valid-padding, also known as no padding, involves not adding any extra pixels around the borders of the input feature map before convolution or pooling operations.\n",
    "   - The filter is applied only to the valid positions where the filter and the input feature map fully overlap.\n",
    "   - As a result, the output feature map size is reduced compared to the input feature map size, and the spatial dimensions of the feature maps are progressively reduced as we move deeper into the network.\n",
    "   - The formula to compute the output feature map size with valid-padding is:\n",
    "     Output Size = (Input Size - Filter Size) / Stride + 1\n",
    "   - Valid-padding is commonly used when we want to reduce the computational cost and memory requirements of the network, at the cost of losing some spatial information at the borders of the feature maps.\n",
    "\n",
    "Comparison:\n",
    "- Zero-padding can maintain or increase the output feature map size, while valid-padding reduces the output feature map size.\n",
    "- Zero-padding helps to preserve information at the borders of the input feature map, while valid-padding discards this information.\n",
    "- Both padding techniques are useful in different situations. Zero-padding is preferred when maintaining spatial dimensions and preserving information is critical, while valid-padding is used to reduce computational complexity and memory requirements.\n",
    "\n",
    "Contrast:\n",
    "- Zero-padding involves adding extra pixels, while valid-padding does not add any extra pixels (no padding).\n",
    "- Zero-padding retains spatial information, whereas valid-padding loses spatial information due to the reduction in feature map size.\n",
    "- Zero-padding is more computationally expensive compared to valid-padding, as it involves processing extra pixels in the convolution or pooling operations.\n",
    "\n",
    "In summary, the choice between zero-padding and valid-padding depends on the specific requirements of the CNN architecture and the task at hand. Zero-padding is favored when spatial information preservation is crucial, while valid-padding is used to reduce computation and memory overhead, sacrificing some spatial information."
   ]
  },
  {
   "cell_type": "markdown",
   "id": "174e25e9-4aa2-4366-b81f-d90f9bb488df",
   "metadata": {},
   "source": [
    "## TOPIC: Exploring LeNet"
   ]
  },
  {
   "cell_type": "markdown",
   "id": "98e0006b-14ea-446f-beea-ad56fe857b17",
   "metadata": {},
   "source": [
    "### 1. Provide a brief overview of LeNet-5 architecture."
   ]
  },
  {
   "cell_type": "markdown",
   "id": "d673aa4d-ef76-48b6-a22f-b2629bb20fce",
   "metadata": {},
   "source": [
    "Ans--> LeNet-5 is a pioneering Convolutional Neural Network (CNN) architecture developed by Yann LeCun, Leon Bottou, Yoshua Bengio, and Patrick Haffner in 1998. It was designed for handwritten digit recognition, specifically for the task of recognizing handwritten digits in the MNIST dataset. LeNet-5 played a significant role in popularizing CNNs and has been influential in the development of modern deep learning architectures.\n",
    "\n",
    "The LeNet-5 architecture consists of the following key components:\n",
    "\n",
    "1. Input Layer:\n",
    "   - The network takes grayscale images of size 32x32 pixels as input. The images are passed through the network in their original resolution.\n",
    "\n",
    "2. Convolutional Layers:\n",
    "   - LeNet-5 has two sets of convolutional layers. The first convolutional layer has six filters of size 5x5, and the second convolutional layer has 16 filters of size 5x5.\n",
    "   - The convolutional layers apply these filters to the input images to extract different features, such as edges and patterns.\n",
    "\n",
    "3. Activation Function:\n",
    "   - After each convolutional layer, a sigmoid activation function is applied element-wise to introduce non-linearity into the network.\n",
    "\n",
    "4. Pooling Layers:\n",
    "   - LeNet-5 uses average pooling layers after the first and second convolutional layers. Each pooling layer has a 2x2 window and a stride of 2, resulting in a downsampling of the feature maps.\n",
    "   - Pooling helps reduce the spatial dimensions of the feature maps and helps make the network more computationally efficient.\n",
    "\n",
    "5. Fully Connected Layers:\n",
    "   - After the convolutional and pooling layers, LeNet-5 has three fully connected layers. The first fully connected layer has 120 neurons, the second has 84 neurons, and the final output layer has 10 neurons (corresponding to the 10 possible digits 0 to 9).\n",
    "   - The output layer uses the softmax activation function to produce a probability distribution over the 10 classes, representing the predicted probability of each digit.\n",
    "\n",
    "6. Training:\n",
    "   - LeNet-5 is typically trained using the stochastic gradient descent (SGD) optimization algorithm and the backpropagation algorithm to update the network's weights during training.\n",
    "   - The network is trained to minimize the cross-entropy loss between the predicted probabilities and the actual labels.\n",
    "\n",
    "LeNet-5's architecture is relatively simple compared to modern CNNs, but it demonstrated the effectiveness of using convolutional layers, pooling layers, and non-linear activation functions in image recognition tasks. It achieved impressive results on the MNIST dataset and paved the way for more complex and deep CNN architectures that are widely used today for a wide range of computer vision tasks."
   ]
  },
  {
   "cell_type": "markdown",
   "id": "ebad1f19-fc11-46a5-a163-1d43ab8be046",
   "metadata": {},
   "source": [
    "## 2. Describe the key components of LeNet-5 and their respective purposes."
   ]
  },
  {
   "cell_type": "markdown",
   "id": "c4ce9114-3c31-47ad-b340-cdcfd8b84451",
   "metadata": {},
   "source": [
    "Ans--> LeNet-5 is a classic Convolutional Neural Network (CNN) architecture designed for handwritten digit recognition. It consists of several key components, each serving a specific purpose in the network's overall functionality. Let's describe these components and their respective purposes:\n",
    "\n",
    "1. Input Layer:\n",
    "   - The input layer receives the grayscale images of size 32x32 pixels. Each pixel represents the intensity value of the corresponding pixel in the handwritten digit image.\n",
    "   - The input layer passes the image data through the network, initiating the flow of information and computations.\n",
    "\n",
    "2. Convolutional Layers:\n",
    "   - LeNet-5 contains two sets of convolutional layers: C1 and C3.\n",
    "   - C1: The first convolutional layer consists of six filters of size 5x5. These filters are applied to the input images to detect different features, such as edges and patterns.\n",
    "   - C3: The second convolutional layer has 16 filters of size 5x5. It takes the output from C1 as input and extracts more complex features from the learned representations in C1.\n",
    "\n",
    "3. Activation Function:\n",
    "   - After each convolutional layer (C1 and C3), a sigmoid activation function is applied element-wise to introduce non-linearity into the network.\n",
    "   - The activation function allows the network to model complex relationships between the learned features and the input data, making the network capable of capturing non-linear patterns.\n",
    "\n",
    "4. Pooling Layers:\n",
    "   - LeNet-5 uses average pooling layers (P2 and P4) after the first and second convolutional layers.\n",
    "   - P2: The first pooling layer follows C1 and has a 2x2 window with a stride of 2. It downsamples the feature maps, reducing their spatial dimensions and extracting the most important information.\n",
    "   - P4: The second pooling layer follows C3 and also has a 2x2 window with a stride of 2, further reducing the spatial dimensions and making the network more computationally efficient.\n",
    "\n",
    "5. Fully Connected Layers:\n",
    "   - After the convolutional and pooling layers, LeNet-5 has three fully connected layers: F5, F6, and the output layer.\n",
    "   - F5: The first fully connected layer has 120 neurons. It takes the output from the last pooling layer (P4) and performs a dense transformation to further capture high-level features and patterns.\n",
    "   - F6: The second fully connected layer consists of 84 neurons. It continues to extract more abstract representations from the previous layer.\n",
    "   - Output Layer: The final layer of LeNet-5 is a fully connected layer with 10 neurons, each corresponding to one of the possible digit classes (0 to 9). The output layer uses the softmax activation function to produce a probability distribution over the classes, representing the predicted probabilities for each digit class.\n",
    "\n",
    "The overall purpose of these key components is to process and transform the input data through convolutional layers, pooling layers, and fully connected layers to learn meaningful features and patterns. The learned representations are then used to classify the input handwritten digits into their respective classes with high accuracy. The architecture demonstrated the effectiveness of using convolutional layers, pooling layers, and non-linear activation functions, laying the foundation for more advanced CNN architectures in modern deep learning."
   ]
  },
  {
   "cell_type": "markdown",
   "id": "e742b4ae-2bd5-4506-9710-a64ca2ea5929",
   "metadata": {},
   "source": [
    "## 3. Discuss the advantages and limitations of LeNet-5 in the context of image classification tasks."
   ]
  },
  {
   "cell_type": "markdown",
   "id": "712cf14f-a8b3-4149-828e-b6f47c9aba8b",
   "metadata": {},
   "source": [
    "Ans--> Advantages of LeNet-5 in Image Classification Tasks:\n",
    "\n",
    "1. Simplicity: LeNet-5 has a relatively simple architecture compared to modern CNNs, making it easy to understand, implement, and train. Its simplicity was one of the key factors that helped popularize CNNs and deep learning.\n",
    "\n",
    "2. Effective Feature Extraction: LeNet-5 employs convolutional layers, which are effective at learning hierarchical features from the input images. These layers can automatically detect edges, corners, and other low-level features, which are essential for recognizing patterns in images.\n",
    "\n",
    "3. Translation Invariance: The pooling layers in LeNet-5 help create translation invariance, meaning the network can recognize patterns and features regardless of their exact spatial position in the input images. This property is crucial for image recognition tasks.\n",
    "\n",
    "4. Efficient Computation: LeNet-5 uses average pooling and relatively small filter sizes, reducing the computational complexity and memory requirements compared to deeper networks. This efficiency makes it suitable for training on less powerful hardware.\n",
    "\n",
    "5. Suitable for Small Images: LeNet-5 was originally designed for handwritten digit recognition on the MNIST dataset, which consists of small, grayscale images (28x28 pixels). It performs well on similar small-scale image classification tasks.\n",
    "\n",
    "Limitations of LeNet-5 in Image Classification Tasks:\n",
    "\n",
    "1. Limited Depth: LeNet-5 has a shallow architecture compared to modern CNNs. Deeper architectures with many layers have shown to be more effective at learning complex features, and they are better suited for more challenging and large-scale image classification tasks.\n",
    "\n",
    "2. Suboptimal for Complex Data: While LeNet-5 performs well on simple datasets like MNIST, it may struggle with more complex and diverse datasets like ImageNet, which contains high-resolution color images with various objects in cluttered scenes.\n",
    "\n",
    "3. Sensitive to Input Size: The original LeNet-5 architecture is designed for 32x32 pixel input images. If the input images are larger or have different aspect ratios, it may require modifications to the network architecture or introduce padding, which could affect performance.\n",
    "\n",
    "4. Limited Activation Function: LeNet-5 uses sigmoid activation functions, which have vanishing gradient problems during training. Modern CNNs often use more robust activation functions like ReLU (Rectified Linear Unit) or its variants.\n",
    "\n",
    "5. Overfitting: Due to its smaller size and limited data augmentation techniques, LeNet-5 may be more prone to overfitting, especially when applied to larger and more complex datasets. Regularization techniques may be necessary to mitigate this issue.\n",
    "\n",
    "In summary, LeNet-5 was a pioneering CNN architecture that laid the groundwork for modern deep learning techniques. While it has its advantages, such as simplicity and efficient computation, it is limited by its shallow architecture and suboptimal performance on complex image classification tasks. For more challenging tasks, researchers have developed deeper and more sophisticated CNN architectures that outperform LeNet-5 in terms of accuracy and generalization capabilities."
   ]
  },
  {
   "cell_type": "markdown",
   "id": "942fca3e-90ca-4d14-bb9e-9f38c29dbdbd",
   "metadata": {},
   "source": [
    "### 4. Implement LeNet-5 using a deep learning framework of your choice (e.g., TensorFlow, PyTorch) and train it on a publicly available dataset (e.g., MNIST). Evaluate its performance and provide insights."
   ]
  },
  {
   "cell_type": "code",
   "execution_count": 2,
   "id": "426076f7-5fc0-4191-8f63-0e81306701ec",
   "metadata": {},
   "outputs": [
    {
     "name": "stdout",
     "output_type": "stream",
     "text": [
      "Requirement already satisfied: tensorflow in /opt/conda/lib/python3.10/site-packages (2.13.0)\n",
      "Requirement already satisfied: absl-py>=1.0.0 in /opt/conda/lib/python3.10/site-packages (from tensorflow) (1.4.0)\n",
      "Requirement already satisfied: six>=1.12.0 in /opt/conda/lib/python3.10/site-packages (from tensorflow) (1.16.0)\n",
      "Requirement already satisfied: opt-einsum>=2.3.2 in /opt/conda/lib/python3.10/site-packages (from tensorflow) (3.3.0)\n",
      "Requirement already satisfied: tensorboard<2.14,>=2.13 in /opt/conda/lib/python3.10/site-packages (from tensorflow) (2.13.0)\n",
      "Requirement already satisfied: wrapt>=1.11.0 in /opt/conda/lib/python3.10/site-packages (from tensorflow) (1.15.0)\n",
      "Requirement already satisfied: protobuf!=4.21.0,!=4.21.1,!=4.21.2,!=4.21.3,!=4.21.4,!=4.21.5,<5.0.0dev,>=3.20.3 in /opt/conda/lib/python3.10/site-packages (from tensorflow) (4.21.11)\n",
      "Requirement already satisfied: setuptools in /opt/conda/lib/python3.10/site-packages (from tensorflow) (65.5.1)\n",
      "Requirement already satisfied: tensorflow-io-gcs-filesystem>=0.23.1 in /opt/conda/lib/python3.10/site-packages (from tensorflow) (0.33.0)\n",
      "Requirement already satisfied: libclang>=13.0.0 in /opt/conda/lib/python3.10/site-packages (from tensorflow) (16.0.6)\n",
      "Requirement already satisfied: termcolor>=1.1.0 in /opt/conda/lib/python3.10/site-packages (from tensorflow) (2.3.0)\n",
      "Requirement already satisfied: google-pasta>=0.1.1 in /opt/conda/lib/python3.10/site-packages (from tensorflow) (0.2.0)\n",
      "Requirement already satisfied: numpy<=1.24.3,>=1.22 in /opt/conda/lib/python3.10/site-packages (from tensorflow) (1.23.5)\n",
      "Requirement already satisfied: tensorflow-estimator<2.14,>=2.13.0 in /opt/conda/lib/python3.10/site-packages (from tensorflow) (2.13.0)\n",
      "Requirement already satisfied: astunparse>=1.6.0 in /opt/conda/lib/python3.10/site-packages (from tensorflow) (1.6.3)\n",
      "Requirement already satisfied: keras<2.14,>=2.13.1 in /opt/conda/lib/python3.10/site-packages (from tensorflow) (2.13.1)\n",
      "Requirement already satisfied: typing-extensions<4.6.0,>=3.6.6 in /opt/conda/lib/python3.10/site-packages (from tensorflow) (4.4.0)\n",
      "Requirement already satisfied: grpcio<2.0,>=1.24.3 in /opt/conda/lib/python3.10/site-packages (from tensorflow) (1.56.2)\n",
      "Requirement already satisfied: packaging in /opt/conda/lib/python3.10/site-packages (from tensorflow) (22.0)\n",
      "Requirement already satisfied: h5py>=2.9.0 in /opt/conda/lib/python3.10/site-packages (from tensorflow) (3.7.0)\n",
      "Requirement already satisfied: flatbuffers>=23.1.21 in /opt/conda/lib/python3.10/site-packages (from tensorflow) (23.5.26)\n",
      "Requirement already satisfied: gast<=0.4.0,>=0.2.1 in /opt/conda/lib/python3.10/site-packages (from tensorflow) (0.4.0)\n",
      "Requirement already satisfied: wheel<1.0,>=0.23.0 in /opt/conda/lib/python3.10/site-packages (from astunparse>=1.6.0->tensorflow) (0.38.4)\n",
      "Requirement already satisfied: werkzeug>=1.0.1 in /opt/conda/lib/python3.10/site-packages (from tensorboard<2.14,>=2.13->tensorflow) (2.3.6)\n",
      "Requirement already satisfied: requests<3,>=2.21.0 in /opt/conda/lib/python3.10/site-packages (from tensorboard<2.14,>=2.13->tensorflow) (2.28.1)\n",
      "Requirement already satisfied: markdown>=2.6.8 in /opt/conda/lib/python3.10/site-packages (from tensorboard<2.14,>=2.13->tensorflow) (3.4.4)\n",
      "Requirement already satisfied: google-auth<3,>=1.6.3 in /opt/conda/lib/python3.10/site-packages (from tensorboard<2.14,>=2.13->tensorflow) (2.22.0)\n",
      "Requirement already satisfied: google-auth-oauthlib<1.1,>=0.5 in /opt/conda/lib/python3.10/site-packages (from tensorboard<2.14,>=2.13->tensorflow) (1.0.0)\n",
      "Requirement already satisfied: tensorboard-data-server<0.8.0,>=0.7.0 in /opt/conda/lib/python3.10/site-packages (from tensorboard<2.14,>=2.13->tensorflow) (0.7.1)\n",
      "Requirement already satisfied: cachetools<6.0,>=2.0.0 in /opt/conda/lib/python3.10/site-packages (from google-auth<3,>=1.6.3->tensorboard<2.14,>=2.13->tensorflow) (5.3.1)\n",
      "Requirement already satisfied: urllib3<2.0 in /opt/conda/lib/python3.10/site-packages (from google-auth<3,>=1.6.3->tensorboard<2.14,>=2.13->tensorflow) (1.26.13)\n",
      "Requirement already satisfied: rsa<5,>=3.1.4 in /opt/conda/lib/python3.10/site-packages (from google-auth<3,>=1.6.3->tensorboard<2.14,>=2.13->tensorflow) (4.9)\n",
      "Requirement already satisfied: pyasn1-modules>=0.2.1 in /opt/conda/lib/python3.10/site-packages (from google-auth<3,>=1.6.3->tensorboard<2.14,>=2.13->tensorflow) (0.3.0)\n",
      "Requirement already satisfied: requests-oauthlib>=0.7.0 in /opt/conda/lib/python3.10/site-packages (from google-auth-oauthlib<1.1,>=0.5->tensorboard<2.14,>=2.13->tensorflow) (1.3.1)\n",
      "Requirement already satisfied: charset-normalizer<3,>=2 in /opt/conda/lib/python3.10/site-packages (from requests<3,>=2.21.0->tensorboard<2.14,>=2.13->tensorflow) (2.1.1)\n",
      "Requirement already satisfied: certifi>=2017.4.17 in /opt/conda/lib/python3.10/site-packages (from requests<3,>=2.21.0->tensorboard<2.14,>=2.13->tensorflow) (2022.12.7)\n",
      "Requirement already satisfied: idna<4,>=2.5 in /opt/conda/lib/python3.10/site-packages (from requests<3,>=2.21.0->tensorboard<2.14,>=2.13->tensorflow) (3.4)\n",
      "Requirement already satisfied: MarkupSafe>=2.1.1 in /opt/conda/lib/python3.10/site-packages (from werkzeug>=1.0.1->tensorboard<2.14,>=2.13->tensorflow) (2.1.1)\n",
      "Requirement already satisfied: pyasn1<0.6.0,>=0.4.6 in /opt/conda/lib/python3.10/site-packages (from pyasn1-modules>=0.2.1->google-auth<3,>=1.6.3->tensorboard<2.14,>=2.13->tensorflow) (0.5.0)\n",
      "Requirement already satisfied: oauthlib>=3.0.0 in /opt/conda/lib/python3.10/site-packages (from requests-oauthlib>=0.7.0->google-auth-oauthlib<1.1,>=0.5->tensorboard<2.14,>=2.13->tensorflow) (3.2.2)\n",
      "Note: you may need to restart the kernel to use updated packages.\n"
     ]
    }
   ],
   "source": [
    "%pip install tensorflow"
   ]
  },
  {
   "cell_type": "code",
   "execution_count": 3,
   "id": "436da0bd-6279-4983-8289-c01abc173851",
   "metadata": {},
   "outputs": [
    {
     "name": "stderr",
     "output_type": "stream",
     "text": [
      "2023-08-10 07:24:51.995228: I tensorflow/tsl/cuda/cudart_stub.cc:28] Could not find cuda drivers on your machine, GPU will not be used.\n",
      "2023-08-10 07:24:52.589774: I tensorflow/tsl/cuda/cudart_stub.cc:28] Could not find cuda drivers on your machine, GPU will not be used.\n",
      "2023-08-10 07:24:52.592309: I tensorflow/core/platform/cpu_feature_guard.cc:182] This TensorFlow binary is optimized to use available CPU instructions in performance-critical operations.\n",
      "To enable the following instructions: AVX2 FMA, in other operations, rebuild TensorFlow with the appropriate compiler flags.\n",
      "2023-08-10 07:24:54.504876: W tensorflow/compiler/tf2tensorrt/utils/py_utils.cc:38] TF-TRT Warning: Could not find TensorRT\n"
     ]
    }
   ],
   "source": [
    "import tensorflow as tf\n",
    "from tensorflow import keras\n",
    "from keras import layers, models, datasets\n",
    "import matplotlib.pyplot as plt"
   ]
  },
  {
   "cell_type": "code",
   "execution_count": 3,
   "id": "101e4a01-3b84-4547-a21b-6bcc301a702b",
   "metadata": {},
   "outputs": [],
   "source": [
    "from keras.datasets import mnist"
   ]
  },
  {
   "cell_type": "code",
   "execution_count": 4,
   "id": "66aa16ec-8352-439f-8e76-f7de3b79ecde",
   "metadata": {},
   "outputs": [],
   "source": [
    "# load the mnist datasets\n",
    "(X_train,y_train),(X_test,y_test)=mnist.load_data()"
   ]
  },
  {
   "cell_type": "code",
   "execution_count": 5,
   "id": "feb47c80-ef7f-4b4c-87e1-3d05734f0c5a",
   "metadata": {},
   "outputs": [],
   "source": [
    "#preprocessing datasets\n",
    "X_train=X_train.reshape((60000, 28, 28, 1)).astype('float32') / 255\n",
    "X_test=X_test.reshape((10000, 28, 28, 1)).astype('float32') / 255\n",
    "\n",
    "y_train=keras.utils.to_categorical(y_train,10)\n",
    "y_test=keras.utils.to_categorical(y_test,10)"
   ]
  },
  {
   "cell_type": "code",
   "execution_count": 6,
   "id": "5cbc63e7-aa74-4dee-af29-eb79fd46cd13",
   "metadata": {},
   "outputs": [],
   "source": [
    "#Build the lenet-5 model\n",
    "model=models.Sequential()"
   ]
  },
  {
   "cell_type": "code",
   "execution_count": 7,
   "id": "2832061d-5f21-4a2c-b241-ee54a313e4c6",
   "metadata": {},
   "outputs": [],
   "source": [
    "model.add(layers.Conv2D(6,(5,5),activation='relu',input_shape=(28,28,1)))"
   ]
  },
  {
   "cell_type": "code",
   "execution_count": 8,
   "id": "c60ac62a-4406-4c07-bd3f-58bc0639a09a",
   "metadata": {},
   "outputs": [],
   "source": [
    "model.add(layers.MaxPooling2D((2,2)))\n",
    "model.add(layers.Conv2D(16,(5,5),activation='relu'))\n",
    "model.add(layers.MaxPooling2D((2,2)))\n",
    "model.add(layers.Flatten())\n",
    "model.add(layers.Dense(120,activation='relu'))\n",
    "model.add(layers.Dense(84,activation='relu'))\n",
    "model.add(layers.Dense(10,activation='softmax'))"
   ]
  },
  {
   "cell_type": "code",
   "execution_count": 9,
   "id": "d84effa1-64ef-40f5-af03-024b744a4f61",
   "metadata": {},
   "outputs": [],
   "source": [
    "# compile the model\n",
    "\n",
    "model.compile(optimizer='adam',\n",
    "              loss='categorical_crossentropy',\n",
    "              metrics=['accuracy'])"
   ]
  },
  {
   "cell_type": "code",
   "execution_count": 10,
   "id": "9db193cf-5faa-48c9-9f6a-f0dd5aeeaf75",
   "metadata": {},
   "outputs": [
    {
     "name": "stdout",
     "output_type": "stream",
     "text": [
      "Epoch 1/10\n",
      "938/938 [==============================] - 8s 8ms/step - loss: 0.2302 - accuracy: 0.9315 - val_loss: 0.0805 - val_accuracy: 0.9732\n",
      "Epoch 2/10\n",
      "938/938 [==============================] - 7s 7ms/step - loss: 0.0722 - accuracy: 0.9781 - val_loss: 0.0510 - val_accuracy: 0.9818\n",
      "Epoch 3/10\n",
      "938/938 [==============================] - 7s 7ms/step - loss: 0.0528 - accuracy: 0.9834 - val_loss: 0.0491 - val_accuracy: 0.9831\n",
      "Epoch 4/10\n",
      "938/938 [==============================] - 7s 8ms/step - loss: 0.0417 - accuracy: 0.9867 - val_loss: 0.0426 - val_accuracy: 0.9858\n",
      "Epoch 5/10\n",
      "938/938 [==============================] - 7s 7ms/step - loss: 0.0336 - accuracy: 0.9892 - val_loss: 0.0462 - val_accuracy: 0.9856\n",
      "Epoch 6/10\n",
      "938/938 [==============================] - 7s 7ms/step - loss: 0.0278 - accuracy: 0.9911 - val_loss: 0.0338 - val_accuracy: 0.9902\n",
      "Epoch 7/10\n",
      "938/938 [==============================] - 7s 7ms/step - loss: 0.0249 - accuracy: 0.9918 - val_loss: 0.0371 - val_accuracy: 0.9875\n",
      "Epoch 8/10\n",
      "938/938 [==============================] - 7s 7ms/step - loss: 0.0216 - accuracy: 0.9927 - val_loss: 0.0347 - val_accuracy: 0.9896\n",
      "Epoch 9/10\n",
      "938/938 [==============================] - 7s 8ms/step - loss: 0.0181 - accuracy: 0.9937 - val_loss: 0.0368 - val_accuracy: 0.9905\n",
      "Epoch 10/10\n",
      "938/938 [==============================] - 7s 7ms/step - loss: 0.0151 - accuracy: 0.9952 - val_loss: 0.0335 - val_accuracy: 0.9915\n"
     ]
    }
   ],
   "source": [
    "# Train the models\n",
    "\n",
    "history=model.fit(X_train,y_train, epochs=10, batch_size=64,validation_data=(X_test,y_test))"
   ]
  },
  {
   "cell_type": "code",
   "execution_count": 11,
   "id": "e53826d4-dc26-40dc-a371-f3f28283e28b",
   "metadata": {},
   "outputs": [
    {
     "name": "stdout",
     "output_type": "stream",
     "text": [
      "313/313 [==============================] - 1s 3ms/step - loss: 0.0335 - accuracy: 0.9915\n"
     ]
    }
   ],
   "source": [
    "test_loss,test_accuracy=model.evaluate(X_test,y_test)"
   ]
  },
  {
   "cell_type": "code",
   "execution_count": 12,
   "id": "f7370c12-4c97-488e-af24-c4ec43a01e17",
   "metadata": {},
   "outputs": [
    {
     "data": {
      "image/png": "[encoded data removed]",
      "text/plain": [
       "<Figure size 640x480 with 1 Axes>"
      ]
     },
     "metadata": {},
     "output_type": "display_data"
    }
   ],
   "source": [
    "#Plot training and validation accuracy over epochs\n",
    "\n",
    "plt.plot(history.history['accuracy'], label='Training Accuracy')\n",
    "plt.plot(history.history['val_accuracy'], label='Validation Accuracy')\n",
    "plt.xlabel('Epoch')\n",
    "plt.ylabel('Accuracy')\n",
    "plt.legend()\n",
    "plt.show()"
   ]
  },
  {
   "cell_type": "markdown",
   "id": "e71f391a-2af7-4fbb-8ceb-d8db936e0dd4",
   "metadata": {},
   "source": [
    "## TOPIC: Analyzing AlexNet"
   ]
  },
  {
   "cell_type": "markdown",
   "id": "2d22e4f8-cee8-4711-9542-e8791d35aaa3",
   "metadata": {},
   "source": [
    "### 1. Present an overview of the AlexNet architecture."
   ]
  },
  {
   "cell_type": "markdown",
   "id": "86953fe3-de2c-445a-a8ba-bf3884fc5ae6",
   "metadata": {},
   "source": [
    "Ans--> AlexNet is a deep convolutional neural network (CNN) architecture that played a pivotal role in advancing the field of computer vision and deep learning. It was developed by Alex Krizhevsky, Ilya Sutskever, and Geoffrey Hinton and won the ImageNet Large Scale Visual Recognition Challenge (ILSVRC) in 2012, marking a significant milestone in the development of deep learning models for image classification.\n",
    "\n",
    "Here's an overview of the AlexNet architecture:\n",
    "\n",
    "1. **Input Layer:**\n",
    "   The network takes in RGB images of size 227x227 pixels as inputs. These images are preprocessed by subtracting the mean pixel value across the dataset from each channel.\n",
    "\n",
    "2. **Convolutional Layers:**\n",
    "   AlexNet consists of five convolutional layers, each followed by a max-pooling layer. These convolutional layers are designed to extract hierarchical features from the input images. The convolutional kernels used have varying sizes, with smaller kernels in the earlier layers and larger kernels in the deeper layers.\n",
    "\n",
    "3. **Activation Function:**\n",
    "   Rectified Linear Units (ReLU) are used as activation functions after each convolutional layer. ReLU introduces non-linearity to the model and helps in overcoming the vanishing gradient problem.\n",
    "\n",
    "4. **Max-Pooling Layers:**\n",
    "   After each of the first two convolutional layers, a max-pooling layer is applied to reduce the spatial dimensions of the feature maps while retaining important features. This helps in reducing the computational load and prevents overfitting.\n",
    "\n",
    "5. **Normalization Layers:**\n",
    "   Local Response Normalization (LRN) layers were introduced to the network. These layers aim to enhance the model's generalization capabilities by normalizing the responses of neighboring neurons.\n",
    "\n",
    "6. **Fully Connected Layers:**\n",
    "   AlexNet has three fully connected layers towards the end of the architecture. The first two fully connected layers each consist of 4096 neurons. These layers serve as high-level feature extractors and are followed by ReLU activation functions. The last fully connected layer is the output layer, containing as many neurons as the number of classes in the dataset. It uses a softmax activation function to produce class probabilities.\n",
    "\n",
    "7. **Dropout:**\n",
    "   Dropout layers are applied after the fully connected layers to prevent overfitting. Dropout randomly deactivates a certain fraction of neurons during training, making the network more robust and less likely to rely on specific neurons.\n",
    "\n",
    "8. **Output Layer:**\n",
    "   The output layer produces class probabilities for the given input image using the softmax activation function. The class with the highest probability is considered the predicted class for the input image.\n",
    "\n",
    "9. **Training and Optimization:**\n",
    "   AlexNet was trained using the stochastic gradient descent (SGD) optimization algorithm. It utilized techniques such as data augmentation (randomly transforming input images) and dropout to improve generalization and mitigate overfitting.\n",
    "\n",
    "In summary, AlexNet's architecture introduced several groundbreaking concepts like deep convolutional networks, ReLU activations, and dropout, which laid the foundation for modern deep learning in computer vision. Its success in the ImageNet competition demonstrated the potential of deep neural networks for image classification tasks."
   ]
  },
  {
   "cell_type": "markdown",
   "id": "1c38adeb-008c-41e0-ae61-e81f67563324",
   "metadata": {},
   "source": [
    "### 2. Explain the architectural innovations introduced in AlexNet that contributed to its breakthrough performance."
   ]
  },
  {
   "cell_type": "markdown",
   "id": "9d8c335c-6080-4e06-9465-615920d4e595",
   "metadata": {},
   "source": [
    "Ans--> AlexNet introduced several architectural innovations that played a crucial role in its breakthrough performance and subsequent advancements in deep learning. These innovations helped address various challenges in training deep neural networks and significantly improved their ability to extract meaningful features from images. Here are the key architectural innovations introduced in AlexNet:\n",
    "\n",
    "1. **Deep Convolutional Layers:**\n",
    "   AlexNet was one of the first deep convolutional neural networks (CNNs) that demonstrated the power of multiple layers of convolutions. Deep layers allowed the network to learn complex hierarchical features, capturing both low-level features like edges and textures as well as high-level features like object parts and structures.\n",
    "\n",
    "2. **ReLU Activation Function:**\n",
    "   AlexNet adopted the Rectified Linear Unit (ReLU) activation function instead of traditional activation functions like sigmoid or tanh. ReLU activations significantly accelerate convergence during training and mitigate the vanishing gradient problem. This choice of activation function enabled faster and more effective learning.\n",
    "\n",
    "3. **Large Training Dataset:**\n",
    "   AlexNet was trained on the ImageNet dataset, which was much larger than datasets used in previous studies. This allowed the network to learn diverse features and generalize better to real-world images.\n",
    "\n",
    "4. **Data Augmentation:**\n",
    "   To further enhance generalization, AlexNet employed data augmentation techniques during training. This involved applying random transformations to the input images, such as cropping, flipping, and rotating. Data augmentation increased the diversity of the training data and made the network more robust to variations in real-world images.\n",
    "\n",
    "5. **Dropout Regularization:**\n",
    "   Dropout is a regularization technique introduced in AlexNet. During training, dropout randomly deactivates a certain fraction of neurons in each layer, preventing the network from relying too heavily on any particular set of neurons. This reduces overfitting and improves generalization, leading to better performance on unseen data.\n",
    "\n",
    "6. **Parallelization and GPUs:**\n",
    "   AlexNet's architecture was designed with parallelization in mind. It was one of the first models to take full advantage of Graphics Processing Units (GPUs) for training. GPUs sped up the training process significantly, enabling faster experimentation and model development.\n",
    "\n",
    "7. **Local Response Normalization (LRN):**\n",
    "   AlexNet introduced LRN layers after convolutional layers. While this concept is less commonly used in modern architectures, it was believed to provide a form of lateral inhibition, enhancing the contrast between activated neurons and contributing to the network's generalization.\n",
    "\n",
    "8. **Large Convolutional Kernels:**\n",
    "   The first convolutional layer of AlexNet used a large kernel size (11x11) with a stride of 4. This architecture choice allowed the network to capture larger-scale features in the initial layers while reducing the spatial dimensions of the feature maps.\n",
    "\n",
    "9. **Ensemble of Models:**\n",
    "   The winning solution of the ILSVRC 2012 competition was an ensemble of multiple AlexNet models. This approach further improved the performance by combining predictions from different instances of the same architecture.\n",
    "\n",
    "Collectively, these architectural innovations introduced in AlexNet helped address issues related to overfitting, training convergence, and feature learning, ultimately leading to a breakthrough in image classification performance and paving the way for the subsequent development of more sophisticated deep learning architectures."
   ]
  },
  {
   "cell_type": "markdown",
   "id": "9ab3a37f-04f5-4b99-b773-4acef0c8debd",
   "metadata": {},
   "source": [
    "### 3. Discuss the role of convolutional layers, pooling layers, and fully connected layers in AlexNet."
   ]
  },
  {
   "cell_type": "markdown",
   "id": "f38c3846-9df4-4ac8-a9fd-cd1b53eb9b40",
   "metadata": {},
   "source": [
    "Ans--> In AlexNet, convolutional layers, pooling layers, and fully connected layers play distinct roles in the overall architecture, each contributing to the network's ability to extract features from input images and make accurate predictions. Let's discuss the role of each of these types of layers in more detail:\n",
    "\n",
    "1. **Convolutional Layers:**\n",
    "   Convolutional layers are the core building blocks of convolutional neural networks (CNNs). In AlexNet, there are five convolutional layers. These layers are responsible for detecting various features present in the input image, such as edges, textures, and more complex patterns. The deeper convolutional layers learn to capture increasingly complex and high-level features, enabling the network to recognize specific object parts and structures.\n",
    "\n",
    "   Each convolutional layer applies multiple filters (also known as kernels) to the input feature maps. These filters slide over the input, performing element-wise multiplications and summations to produce feature maps that highlight specific patterns. The application of ReLU activation functions after each convolutional layer introduces non-linearity, allowing the network to learn more complex relationships between features.\n",
    "\n",
    "2. **Pooling Layers:**\n",
    "   Pooling layers, specifically max-pooling in AlexNet, serve to reduce the spatial dimensions of the feature maps while preserving important features. Max-pooling involves selecting the maximum value within a small region (usually 2x2) of the feature map and discarding the rest. This downsampling operation reduces the computational load and the number of parameters in the subsequent layers, making the network more efficient.\n",
    "\n",
    "   Max-pooling also introduces a degree of translation invariance, meaning that the network can still recognize patterns and features even when they're slightly shifted in the input image. This property helps the network generalize better to variations in object positions.\n",
    "\n",
    "3. **Fully Connected Layers:**\n",
    "   The fully connected layers in AlexNet are inspired by traditional neural networks. These layers are responsible for high-level feature extraction and making final class predictions. AlexNet has three fully connected layers, with the first two layers each containing 4096 neurons. These layers process the features learned by the preceding convolutional and pooling layers to make abstract representations of the input image.\n",
    "\n",
    "   The fully connected layers are connected to every neuron in the previous layer, forming a dense network. ReLU activations are applied after the first two fully connected layers, introducing non-linearity. The final fully connected layer, also known as the output layer, consists of neurons equal to the number of classes in the dataset. It employs a softmax activation function to produce class probabilities, determining the predicted class for the input image.\n",
    "\n",
    "In summary, convolutional layers perform feature extraction by applying convolutional filters to the input data. Pooling layers downsample the feature maps to reduce dimensions and introduce translation invariance. Fully connected layers process high-level features and make class predictions. The combination of these layers allows AlexNet to learn hierarchical features from images and make accurate image classifications."
   ]
  },
  {
   "cell_type": "markdown",
   "id": "c0d9aeab-5672-4b33-b044-cc97a55240c6",
   "metadata": {},
   "source": [
    "### 4. Implement AlexNet using a deep learning framework of your choice and evaluate its performance on a dataset of your choice."
   ]
  },
  {
   "cell_type": "code",
   "execution_count": 4,
   "id": "f4172247-796c-4cbe-af0d-fa2df553e317",
   "metadata": {},
   "outputs": [
    {
     "name": "stdout",
     "output_type": "stream",
     "text": [
      "Requirement already satisfied: tensorflow in /opt/conda/lib/python3.10/site-packages (2.13.0)\n",
      "Requirement already satisfied: typing-extensions<4.6.0,>=3.6.6 in /opt/conda/lib/python3.10/site-packages (from tensorflow) (4.4.0)\n",
      "Requirement already satisfied: grpcio<2.0,>=1.24.3 in /opt/conda/lib/python3.10/site-packages (from tensorflow) (1.56.2)\n",
      "Requirement already satisfied: flatbuffers>=23.1.21 in /opt/conda/lib/python3.10/site-packages (from tensorflow) (23.5.26)\n",
      "Requirement already satisfied: absl-py>=1.0.0 in /opt/conda/lib/python3.10/site-packages (from tensorflow) (1.4.0)\n",
      "Requirement already satisfied: packaging in /opt/conda/lib/python3.10/site-packages (from tensorflow) (22.0)\n",
      "Requirement already satisfied: tensorboard<2.14,>=2.13 in /opt/conda/lib/python3.10/site-packages (from tensorflow) (2.13.0)\n",
      "Requirement already satisfied: tensorflow-estimator<2.14,>=2.13.0 in /opt/conda/lib/python3.10/site-packages (from tensorflow) (2.13.0)\n",
      "Requirement already satisfied: setuptools in /opt/conda/lib/python3.10/site-packages (from tensorflow) (65.5.1)\n",
      "Requirement already satisfied: h5py>=2.9.0 in /opt/conda/lib/python3.10/site-packages (from tensorflow) (3.7.0)\n",
      "Requirement already satisfied: tensorflow-io-gcs-filesystem>=0.23.1 in /opt/conda/lib/python3.10/site-packages (from tensorflow) (0.33.0)\n",
      "Requirement already satisfied: google-pasta>=0.1.1 in /opt/conda/lib/python3.10/site-packages (from tensorflow) (0.2.0)\n",
      "Requirement already satisfied: keras<2.14,>=2.13.1 in /opt/conda/lib/python3.10/site-packages (from tensorflow) (2.13.1)\n",
      "Requirement already satisfied: opt-einsum>=2.3.2 in /opt/conda/lib/python3.10/site-packages (from tensorflow) (3.3.0)\n",
      "Requirement already satisfied: numpy<=1.24.3,>=1.22 in /opt/conda/lib/python3.10/site-packages (from tensorflow) (1.23.5)\n",
      "Requirement already satisfied: protobuf!=4.21.0,!=4.21.1,!=4.21.2,!=4.21.3,!=4.21.4,!=4.21.5,<5.0.0dev,>=3.20.3 in /opt/conda/lib/python3.10/site-packages (from tensorflow) (4.21.11)\n",
      "Requirement already satisfied: termcolor>=1.1.0 in /opt/conda/lib/python3.10/site-packages (from tensorflow) (2.3.0)\n",
      "Requirement already satisfied: libclang>=13.0.0 in /opt/conda/lib/python3.10/site-packages (from tensorflow) (16.0.6)\n",
      "Requirement already satisfied: astunparse>=1.6.0 in /opt/conda/lib/python3.10/site-packages (from tensorflow) (1.6.3)\n",
      "Requirement already satisfied: wrapt>=1.11.0 in /opt/conda/lib/python3.10/site-packages (from tensorflow) (1.15.0)\n",
      "Requirement already satisfied: six>=1.12.0 in /opt/conda/lib/python3.10/site-packages (from tensorflow) (1.16.0)\n",
      "Requirement already satisfied: gast<=0.4.0,>=0.2.1 in /opt/conda/lib/python3.10/site-packages (from tensorflow) (0.4.0)\n",
      "Requirement already satisfied: wheel<1.0,>=0.23.0 in /opt/conda/lib/python3.10/site-packages (from astunparse>=1.6.0->tensorflow) (0.38.4)\n",
      "Requirement already satisfied: google-auth<3,>=1.6.3 in /opt/conda/lib/python3.10/site-packages (from tensorboard<2.14,>=2.13->tensorflow) (2.22.0)\n",
      "Requirement already satisfied: tensorboard-data-server<0.8.0,>=0.7.0 in /opt/conda/lib/python3.10/site-packages (from tensorboard<2.14,>=2.13->tensorflow) (0.7.1)\n",
      "Requirement already satisfied: requests<3,>=2.21.0 in /opt/conda/lib/python3.10/site-packages (from tensorboard<2.14,>=2.13->tensorflow) (2.28.1)\n",
      "Requirement already satisfied: markdown>=2.6.8 in /opt/conda/lib/python3.10/site-packages (from tensorboard<2.14,>=2.13->tensorflow) (3.4.4)\n",
      "Requirement already satisfied: werkzeug>=1.0.1 in /opt/conda/lib/python3.10/site-packages (from tensorboard<2.14,>=2.13->tensorflow) (2.3.6)\n",
      "Requirement already satisfied: google-auth-oauthlib<1.1,>=0.5 in /opt/conda/lib/python3.10/site-packages (from tensorboard<2.14,>=2.13->tensorflow) (1.0.0)\n",
      "Requirement already satisfied: urllib3<2.0 in /opt/conda/lib/python3.10/site-packages (from google-auth<3,>=1.6.3->tensorboard<2.14,>=2.13->tensorflow) (1.26.13)\n",
      "Requirement already satisfied: pyasn1-modules>=0.2.1 in /opt/conda/lib/python3.10/site-packages (from google-auth<3,>=1.6.3->tensorboard<2.14,>=2.13->tensorflow) (0.3.0)\n",
      "Requirement already satisfied: rsa<5,>=3.1.4 in /opt/conda/lib/python3.10/site-packages (from google-auth<3,>=1.6.3->tensorboard<2.14,>=2.13->tensorflow) (4.9)\n",
      "Requirement already satisfied: cachetools<6.0,>=2.0.0 in /opt/conda/lib/python3.10/site-packages (from google-auth<3,>=1.6.3->tensorboard<2.14,>=2.13->tensorflow) (5.3.1)\n",
      "Requirement already satisfied: requests-oauthlib>=0.7.0 in /opt/conda/lib/python3.10/site-packages (from google-auth-oauthlib<1.1,>=0.5->tensorboard<2.14,>=2.13->tensorflow) (1.3.1)\n",
      "Requirement already satisfied: certifi>=2017.4.17 in /opt/conda/lib/python3.10/site-packages (from requests<3,>=2.21.0->tensorboard<2.14,>=2.13->tensorflow) (2022.12.7)\n",
      "Requirement already satisfied: charset-normalizer<3,>=2 in /opt/conda/lib/python3.10/site-packages (from requests<3,>=2.21.0->tensorboard<2.14,>=2.13->tensorflow) (2.1.1)\n",
      "Requirement already satisfied: idna<4,>=2.5 in /opt/conda/lib/python3.10/site-packages (from requests<3,>=2.21.0->tensorboard<2.14,>=2.13->tensorflow) (3.4)\n",
      "Requirement already satisfied: MarkupSafe>=2.1.1 in /opt/conda/lib/python3.10/site-packages (from werkzeug>=1.0.1->tensorboard<2.14,>=2.13->tensorflow) (2.1.1)\n",
      "Requirement already satisfied: pyasn1<0.6.0,>=0.4.6 in /opt/conda/lib/python3.10/site-packages (from pyasn1-modules>=0.2.1->google-auth<3,>=1.6.3->tensorboard<2.14,>=2.13->tensorflow) (0.5.0)\n",
      "Requirement already satisfied: oauthlib>=3.0.0 in /opt/conda/lib/python3.10/site-packages (from requests-oauthlib>=0.7.0->google-auth-oauthlib<1.1,>=0.5->tensorboard<2.14,>=2.13->tensorflow) (3.2.2)\n",
      "Note: you may need to restart the kernel to use updated packages.\n"
     ]
    }
   ],
   "source": [
    "%pip install tensorflow"
   ]
  },
  {
   "cell_type": "code",
   "execution_count": 13,
   "id": "1e9a4680-d10d-4cdc-9321-c5a38bab6c12",
   "metadata": {},
   "outputs": [],
   "source": [
    "import tensorflow as tf\n",
    "from tensorflow import keras\n",
    "from tensorflow.keras.utils import to_categorical\n",
    "from tensorflow.keras import models,layers,datasets,optimizers\n",
    "from sklearn.model_selection import train_test_split\n",
    "from keras.layers import Input, Conv2D, MaxPooling2D, Flatten, Dense, Dropout"
   ]
  },
  {
   "cell_type": "code",
   "execution_count": 14,
   "id": "4edcc97a-7cfa-4543-a98e-beeea19aab61",
   "metadata": {},
   "outputs": [],
   "source": [
    "# Load and preprocess CIFAR-10 dataset\n",
    "(train_images, train_labels), (test_images, test_labels) = datasets.cifar10.load_data()\n",
    "train_images, valid_images, train_labels, valid_labels = train_test_split(train_images, train_labels, test_size=0.2, random_state=42)\n",
    "\n",
    "train_images = train_images.astype('float32') / 255.0\n",
    "valid_images = valid_images.astype('float32') / 255.0\n",
    "test_images = test_images.astype('float32') / 255.0\n",
    "\n",
    "train_labels = to_categorical(train_labels, num_classes=10)\n",
    "valid_labels = to_categorical(valid_labels, num_classes=10)\n",
    "test_labels = to_categorical(test_labels, num_classes=10)"
   ]
  },
  {
   "cell_type": "code",
   "execution_count": 19,
   "id": "b3c9d6a8-5c32-478f-88bd-b4d9a7bb04ff",
   "metadata": {},
   "outputs": [],
   "source": [
    "# Build AlexNet architecture\n",
    "def alexnet(input_shape, num_classes):\n",
    "    model = models.Sequential()\n",
    "    \n",
    "    # Convolutional layers\n",
    "    model.add(layers.Conv2D(96, (11, 11), strides=(4, 4), activation='relu', input_shape=input_shape))\n",
    "    model.add(layers.MaxPooling2D((2, 2), strides=(2, 2)))\n",
    "    \n",
    "    model.add(layers.Conv2D(256, (5, 5), padding='same', activation='relu'))\n",
    "    model.add(layers.MaxPooling2D((3, 3), strides=(2, 2)))\n",
    "    \n",
    "    model.add(layers.Conv2D(384, (3, 3), padding='same', activation='relu'))\n",
    "    model.add(layers.Conv2D(384, (3, 3), padding='same', activation='relu'))\n",
    "    model.add(layers.Conv2D(256, (3, 3), padding='same', activation='relu'))\n",
    "    \n",
    "    # Fully connected layers\n",
    "    model.add(layers.Flatten())\n",
    "    model.add(layers.Dense(4096, activation='relu'))\n",
    "    model.add(layers.Dropout(0.5))\n",
    "    \n",
    "    model.add(layers.Dense(4096, activation='relu'))\n",
    "    model.add(layers.Dropout(0.5))\n",
    "    \n",
    "    model.add(layers.Dense(num_classes, activation='softmax'))\n",
    "    \n",
    "    return model"
   ]
  },
  {
   "cell_type": "code",
   "execution_count": 20,
   "id": "4d090d25-b87e-41dd-8db2-90a5deb8b69e",
   "metadata": {},
   "outputs": [],
   "source": [
    "input_shape = train_images.shape[1:]\n",
    "num_classes = 10\n",
    "model = alexnet(input_shape, num_classes)"
   ]
  },
  {
   "cell_type": "code",
   "execution_count": null,
   "id": "9aba3fdf-47dc-45ff-818e-be3b0603ee88",
   "metadata": {},
   "outputs": [
    {
     "name": "stderr",
     "output_type": "stream",
     "text": [
      "WARNING:absl:`lr` is deprecated in Keras optimizer, please use `learning_rate` or use the legacy optimizer, e.g.,tf.keras.optimizers.legacy.SGD.\n"
     ]
    },
    {
     "name": "stdout",
     "output_type": "stream",
     "text": [
      "Epoch 1/10\n",
      "313/313 [==============================] - 41s 129ms/step - loss: 2.3029 - accuracy: 0.0998 - val_loss: 2.3033 - val_accuracy: 0.0979\n",
      "Epoch 2/10\n",
      "313/313 [==============================] - 37s 118ms/step - loss: 2.3027 - accuracy: 0.1005 - val_loss: 2.3030 - val_accuracy: 0.0979\n",
      "Epoch 3/10\n",
      "313/313 [==============================] - 37s 118ms/step - loss: 2.3030 - accuracy: 0.1005 - val_loss: 2.3029 - val_accuracy: 0.0933\n",
      "Epoch 4/10\n",
      "313/313 [==============================] - 37s 119ms/step - loss: 2.3028 - accuracy: 0.1001 - val_loss: 2.3026 - val_accuracy: 0.1040\n",
      "Epoch 5/10\n",
      "313/313 [==============================] - 37s 120ms/step - loss: 2.3023 - accuracy: 0.1015 - val_loss: 2.3005 - val_accuracy: 0.1017\n",
      "Epoch 6/10\n",
      "313/313 [==============================] - 37s 120ms/step - loss: 2.2638 - accuracy: 0.1538 - val_loss: 2.1129 - val_accuracy: 0.1838\n",
      "Epoch 7/10\n",
      "313/313 [==============================] - 37s 119ms/step - loss: 2.0441 - accuracy: 0.1903 - val_loss: 1.9418 - val_accuracy: 0.2104\n",
      "Epoch 8/10\n",
      "313/313 [==============================] - 37s 120ms/step - loss: 1.9357 - accuracy: 0.2128 - val_loss: 1.8880 - val_accuracy: 0.2293\n",
      "Epoch 9/10\n",
      "313/313 [==============================] - 37s 119ms/step - loss: 1.8804 - accuracy: 0.2526 - val_loss: 1.8008 - val_accuracy: 0.3005\n",
      "Epoch 10/10\n",
      "313/313 [==============================] - 37s 119ms/step - loss: 1.7555 - accuracy: 0.3200 - val_loss: 1.7025 - val_accuracy: 0.3402\n"
     ]
    },
    {
     "data": {
      "text/plain": [
       "<keras.src.callbacks.History at 0x7f32db150d60>"
      ]
     },
     "execution_count": 21,
     "metadata": {},
     "output_type": "execute_result"
    }
   ],
   "source": [
    "# Compile and train the model\n",
    "model.compile(optimizer=optimizers.SGD(lr=0.01, momentum=0.9), loss='categorical_crossentropy', metrics=['accuracy'])\n",
    "model.fit(train_images, train_labels, epochs=10, batch_size=128, validation_data=(valid_images, valid_labels))"
   ]
  },
  {
   "cell_type": "code",
   "execution_count": null,
   "id": "3d275c8e-8334-445e-a042-dcf30008622e",
   "metadata": {},
   "outputs": [],
   "source": [
    "# Evaluate the model on the test dataset\n",
    "test_loss, test_accuracy = model.evaluate(test_images, test_labels)\n",
    "print(f'Test accuracy: {test_accuracy:.4f}')"
   ]
  },
  {
   "cell_type": "code",
   "execution_count": null,
   "id": "e7a4f6c1-c476-4bc2-a52d-f0450717866a",
   "metadata": {},
   "outputs": [],
   "source": []
  }
 ],
 "metadata": {
  "kernelspec": {
   "display_name": "Python 3 (ipykernel)",
   "language": "python",
   "name": "python3"
  },
  "language_info": {
   "codemirror_mode": {
    "name": "ipython",
    "version": 3
   },
   "file_extension": ".py",
   "mimetype": "text/x-python",
   "name": "python",
   "nbconvert_exporter": "python",
   "pygments_lexer": "ipython3",
   "version": "3.10.8"
  }
 },
 "nbformat": 4,
 "nbformat_minor": 5
}
